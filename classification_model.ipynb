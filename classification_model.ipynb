{
 "cells": [
  {
   "cell_type": "markdown",
   "metadata": {},
   "source": [
    "# Churners classification"
   ]
  },
  {
   "cell_type": "markdown",
   "metadata": {},
   "source": [
    "### libraries"
   ]
  },
  {
   "cell_type": "code",
   "execution_count": 61,
   "metadata": {},
   "outputs": [],
   "source": [
    "import pandas as pd\n",
    "import numpy as np\n",
    "import matplotlib.pyplot as plt\n",
    "import seaborn as sns"
   ]
  },
  {
   "cell_type": "markdown",
   "metadata": {},
   "source": [
    "### dataset"
   ]
  },
  {
   "cell_type": "code",
   "execution_count": 62,
   "metadata": {},
   "outputs": [
    {
     "name": "stdout",
     "output_type": "stream",
     "text": [
      "<class 'pandas.core.frame.DataFrame'>\n",
      "RangeIndex: 41175 entries, 0 to 41174\n",
      "Data columns (total 21 columns):\n",
      " #   Column          Non-Null Count  Dtype  \n",
      "---  ------          --------------  -----  \n",
      " 0   age             41175 non-null  int64  \n",
      " 1   job             41175 non-null  object \n",
      " 2   marital         41175 non-null  object \n",
      " 3   education       41175 non-null  object \n",
      " 4   default         41175 non-null  object \n",
      " 5   housing         41175 non-null  object \n",
      " 6   loan            41175 non-null  object \n",
      " 7   contact         41175 non-null  object \n",
      " 8   month           41175 non-null  object \n",
      " 9   day_of_week     41175 non-null  object \n",
      " 10  duration        41175 non-null  int64  \n",
      " 11  campaign        41175 non-null  int64  \n",
      " 12  pdays           41175 non-null  int64  \n",
      " 13  previous        41175 non-null  int64  \n",
      " 14  poutcome        41175 non-null  object \n",
      " 15  emp.var.rate    41175 non-null  float64\n",
      " 16  cons.price.idx  41175 non-null  float64\n",
      " 17  cons.conf.idx   41175 non-null  float64\n",
      " 18  euribor3m       41175 non-null  float64\n",
      " 19  nr.employed     41175 non-null  float64\n",
      " 20  y               41175 non-null  object \n",
      "dtypes: float64(5), int64(5), object(11)\n",
      "memory usage: 6.6+ MB\n"
     ]
    }
   ],
   "source": [
    "file_url = '/Users/santiagocardenas/Documents/MDSI/202402/Statistical thinking for data science/STDS-at3/dataset_cleaned.csv'\n",
    "data = pd.read_csv(file_url)\n",
    "data.info()"
   ]
  },
  {
   "cell_type": "code",
   "execution_count": 63,
   "metadata": {},
   "outputs": [
    {
     "name": "stderr",
     "output_type": "stream",
     "text": [
      "/var/folders/wv/tct1f2g5605fttplsk9y_gzh0000gn/T/ipykernel_10526/1753127780.py:1: FutureWarning: The default value of regex will change from True to False in a future version. In addition, single character regular expressions will *not* be treated as literal strings when regex=True.\n",
      "  data.columns = data.columns.str.replace('.', '_')\n"
     ]
    }
   ],
   "source": [
    "data.columns = data.columns.str.replace('.', '_') "
   ]
  },
  {
   "cell_type": "markdown",
   "metadata": {},
   "source": [
    "### data cleaning"
   ]
  },
  {
   "cell_type": "markdown",
   "metadata": {},
   "source": [
    "#### duplicated values"
   ]
  },
  {
   "cell_type": "code",
   "execution_count": 64,
   "metadata": {},
   "outputs": [
    {
     "data": {
      "text/html": [
       "<div>\n",
       "<style scoped>\n",
       "    .dataframe tbody tr th:only-of-type {\n",
       "        vertical-align: middle;\n",
       "    }\n",
       "\n",
       "    .dataframe tbody tr th {\n",
       "        vertical-align: top;\n",
       "    }\n",
       "\n",
       "    .dataframe thead th {\n",
       "        text-align: right;\n",
       "    }\n",
       "</style>\n",
       "<table border=\"1\" class=\"dataframe\">\n",
       "  <thead>\n",
       "    <tr style=\"text-align: right;\">\n",
       "      <th></th>\n",
       "      <th>age</th>\n",
       "      <th>job</th>\n",
       "      <th>marital</th>\n",
       "      <th>education</th>\n",
       "      <th>default</th>\n",
       "      <th>housing</th>\n",
       "      <th>loan</th>\n",
       "      <th>contact</th>\n",
       "      <th>month</th>\n",
       "      <th>day_of_week</th>\n",
       "      <th>...</th>\n",
       "      <th>campaign</th>\n",
       "      <th>pdays</th>\n",
       "      <th>previous</th>\n",
       "      <th>poutcome</th>\n",
       "      <th>emp_var_rate</th>\n",
       "      <th>cons_price_idx</th>\n",
       "      <th>cons_conf_idx</th>\n",
       "      <th>euribor3m</th>\n",
       "      <th>nr_employed</th>\n",
       "      <th>y</th>\n",
       "    </tr>\n",
       "  </thead>\n",
       "  <tbody>\n",
       "    <tr>\n",
       "      <th>1262</th>\n",
       "      <td>39</td>\n",
       "      <td>blue-collar</td>\n",
       "      <td>married</td>\n",
       "      <td>basic</td>\n",
       "      <td>no</td>\n",
       "      <td>no</td>\n",
       "      <td>no</td>\n",
       "      <td>telephone</td>\n",
       "      <td>may</td>\n",
       "      <td>thu</td>\n",
       "      <td>...</td>\n",
       "      <td>1</td>\n",
       "      <td>999</td>\n",
       "      <td>0</td>\n",
       "      <td>nonexistent</td>\n",
       "      <td>1.1</td>\n",
       "      <td>93.994</td>\n",
       "      <td>-36.4</td>\n",
       "      <td>4.855</td>\n",
       "      <td>5191.0</td>\n",
       "      <td>no</td>\n",
       "    </tr>\n",
       "    <tr>\n",
       "      <th>12255</th>\n",
       "      <td>36</td>\n",
       "      <td>retired</td>\n",
       "      <td>married</td>\n",
       "      <td>unknown</td>\n",
       "      <td>no</td>\n",
       "      <td>no</td>\n",
       "      <td>no</td>\n",
       "      <td>telephone</td>\n",
       "      <td>jul</td>\n",
       "      <td>thu</td>\n",
       "      <td>...</td>\n",
       "      <td>1</td>\n",
       "      <td>999</td>\n",
       "      <td>0</td>\n",
       "      <td>nonexistent</td>\n",
       "      <td>1.4</td>\n",
       "      <td>93.918</td>\n",
       "      <td>-42.7</td>\n",
       "      <td>4.966</td>\n",
       "      <td>5228.1</td>\n",
       "      <td>no</td>\n",
       "    </tr>\n",
       "    <tr>\n",
       "      <th>14228</th>\n",
       "      <td>27</td>\n",
       "      <td>technician</td>\n",
       "      <td>single</td>\n",
       "      <td>professional course</td>\n",
       "      <td>no</td>\n",
       "      <td>no</td>\n",
       "      <td>no</td>\n",
       "      <td>cellular</td>\n",
       "      <td>jul</td>\n",
       "      <td>mon</td>\n",
       "      <td>...</td>\n",
       "      <td>2</td>\n",
       "      <td>999</td>\n",
       "      <td>0</td>\n",
       "      <td>nonexistent</td>\n",
       "      <td>1.4</td>\n",
       "      <td>93.918</td>\n",
       "      <td>-42.7</td>\n",
       "      <td>4.962</td>\n",
       "      <td>5228.1</td>\n",
       "      <td>no</td>\n",
       "    </tr>\n",
       "    <tr>\n",
       "      <th>16950</th>\n",
       "      <td>47</td>\n",
       "      <td>technician</td>\n",
       "      <td>divorced</td>\n",
       "      <td>high school</td>\n",
       "      <td>no</td>\n",
       "      <td>yes</td>\n",
       "      <td>no</td>\n",
       "      <td>cellular</td>\n",
       "      <td>jul</td>\n",
       "      <td>thu</td>\n",
       "      <td>...</td>\n",
       "      <td>3</td>\n",
       "      <td>999</td>\n",
       "      <td>0</td>\n",
       "      <td>nonexistent</td>\n",
       "      <td>1.4</td>\n",
       "      <td>93.918</td>\n",
       "      <td>-42.7</td>\n",
       "      <td>4.962</td>\n",
       "      <td>5228.1</td>\n",
       "      <td>no</td>\n",
       "    </tr>\n",
       "    <tr>\n",
       "      <th>18459</th>\n",
       "      <td>32</td>\n",
       "      <td>technician</td>\n",
       "      <td>single</td>\n",
       "      <td>professional course</td>\n",
       "      <td>no</td>\n",
       "      <td>yes</td>\n",
       "      <td>no</td>\n",
       "      <td>cellular</td>\n",
       "      <td>jul</td>\n",
       "      <td>thu</td>\n",
       "      <td>...</td>\n",
       "      <td>1</td>\n",
       "      <td>999</td>\n",
       "      <td>0</td>\n",
       "      <td>nonexistent</td>\n",
       "      <td>1.4</td>\n",
       "      <td>93.918</td>\n",
       "      <td>-42.7</td>\n",
       "      <td>4.968</td>\n",
       "      <td>5228.1</td>\n",
       "      <td>no</td>\n",
       "    </tr>\n",
       "    <tr>\n",
       "      <th>20210</th>\n",
       "      <td>55</td>\n",
       "      <td>services</td>\n",
       "      <td>married</td>\n",
       "      <td>high school</td>\n",
       "      <td>unknown</td>\n",
       "      <td>no</td>\n",
       "      <td>no</td>\n",
       "      <td>cellular</td>\n",
       "      <td>aug</td>\n",
       "      <td>mon</td>\n",
       "      <td>...</td>\n",
       "      <td>1</td>\n",
       "      <td>999</td>\n",
       "      <td>0</td>\n",
       "      <td>nonexistent</td>\n",
       "      <td>1.4</td>\n",
       "      <td>93.444</td>\n",
       "      <td>-36.1</td>\n",
       "      <td>4.965</td>\n",
       "      <td>5228.1</td>\n",
       "      <td>no</td>\n",
       "    </tr>\n",
       "    <tr>\n",
       "      <th>20528</th>\n",
       "      <td>41</td>\n",
       "      <td>technician</td>\n",
       "      <td>married</td>\n",
       "      <td>professional course</td>\n",
       "      <td>no</td>\n",
       "      <td>yes</td>\n",
       "      <td>no</td>\n",
       "      <td>cellular</td>\n",
       "      <td>aug</td>\n",
       "      <td>tue</td>\n",
       "      <td>...</td>\n",
       "      <td>1</td>\n",
       "      <td>999</td>\n",
       "      <td>0</td>\n",
       "      <td>nonexistent</td>\n",
       "      <td>1.4</td>\n",
       "      <td>93.444</td>\n",
       "      <td>-36.1</td>\n",
       "      <td>4.966</td>\n",
       "      <td>5228.1</td>\n",
       "      <td>no</td>\n",
       "    </tr>\n",
       "    <tr>\n",
       "      <th>25210</th>\n",
       "      <td>39</td>\n",
       "      <td>admin</td>\n",
       "      <td>married</td>\n",
       "      <td>university degree</td>\n",
       "      <td>no</td>\n",
       "      <td>no</td>\n",
       "      <td>no</td>\n",
       "      <td>cellular</td>\n",
       "      <td>nov</td>\n",
       "      <td>tue</td>\n",
       "      <td>...</td>\n",
       "      <td>2</td>\n",
       "      <td>999</td>\n",
       "      <td>0</td>\n",
       "      <td>nonexistent</td>\n",
       "      <td>-0.1</td>\n",
       "      <td>93.200</td>\n",
       "      <td>-42.0</td>\n",
       "      <td>4.153</td>\n",
       "      <td>5195.8</td>\n",
       "      <td>no</td>\n",
       "    </tr>\n",
       "    <tr>\n",
       "      <th>28469</th>\n",
       "      <td>24</td>\n",
       "      <td>services</td>\n",
       "      <td>single</td>\n",
       "      <td>high school</td>\n",
       "      <td>no</td>\n",
       "      <td>yes</td>\n",
       "      <td>no</td>\n",
       "      <td>cellular</td>\n",
       "      <td>apr</td>\n",
       "      <td>tue</td>\n",
       "      <td>...</td>\n",
       "      <td>1</td>\n",
       "      <td>999</td>\n",
       "      <td>0</td>\n",
       "      <td>nonexistent</td>\n",
       "      <td>-1.8</td>\n",
       "      <td>93.075</td>\n",
       "      <td>-47.1</td>\n",
       "      <td>1.423</td>\n",
       "      <td>5099.1</td>\n",
       "      <td>no</td>\n",
       "    </tr>\n",
       "    <tr>\n",
       "      <th>32241</th>\n",
       "      <td>49</td>\n",
       "      <td>blue-collar</td>\n",
       "      <td>married</td>\n",
       "      <td>basic</td>\n",
       "      <td>no</td>\n",
       "      <td>yes</td>\n",
       "      <td>no</td>\n",
       "      <td>cellular</td>\n",
       "      <td>may</td>\n",
       "      <td>fri</td>\n",
       "      <td>...</td>\n",
       "      <td>1</td>\n",
       "      <td>999</td>\n",
       "      <td>1</td>\n",
       "      <td>failure</td>\n",
       "      <td>-1.8</td>\n",
       "      <td>92.893</td>\n",
       "      <td>-46.2</td>\n",
       "      <td>1.313</td>\n",
       "      <td>5099.1</td>\n",
       "      <td>no</td>\n",
       "    </tr>\n",
       "    <tr>\n",
       "      <th>32508</th>\n",
       "      <td>35</td>\n",
       "      <td>admin</td>\n",
       "      <td>married</td>\n",
       "      <td>university degree</td>\n",
       "      <td>no</td>\n",
       "      <td>yes</td>\n",
       "      <td>no</td>\n",
       "      <td>cellular</td>\n",
       "      <td>may</td>\n",
       "      <td>fri</td>\n",
       "      <td>...</td>\n",
       "      <td>4</td>\n",
       "      <td>999</td>\n",
       "      <td>0</td>\n",
       "      <td>nonexistent</td>\n",
       "      <td>-1.8</td>\n",
       "      <td>92.893</td>\n",
       "      <td>-46.2</td>\n",
       "      <td>1.313</td>\n",
       "      <td>5099.1</td>\n",
       "      <td>no</td>\n",
       "    </tr>\n",
       "    <tr>\n",
       "      <th>33527</th>\n",
       "      <td>43</td>\n",
       "      <td>blue-collar</td>\n",
       "      <td>married</td>\n",
       "      <td>basic</td>\n",
       "      <td>no</td>\n",
       "      <td>yes</td>\n",
       "      <td>yes</td>\n",
       "      <td>cellular</td>\n",
       "      <td>may</td>\n",
       "      <td>tue</td>\n",
       "      <td>...</td>\n",
       "      <td>2</td>\n",
       "      <td>999</td>\n",
       "      <td>0</td>\n",
       "      <td>nonexistent</td>\n",
       "      <td>-1.8</td>\n",
       "      <td>92.893</td>\n",
       "      <td>-46.2</td>\n",
       "      <td>1.291</td>\n",
       "      <td>5099.1</td>\n",
       "      <td>no</td>\n",
       "    </tr>\n",
       "    <tr>\n",
       "      <th>34001</th>\n",
       "      <td>42</td>\n",
       "      <td>blue-collar</td>\n",
       "      <td>married</td>\n",
       "      <td>basic</td>\n",
       "      <td>no</td>\n",
       "      <td>yes</td>\n",
       "      <td>no</td>\n",
       "      <td>cellular</td>\n",
       "      <td>may</td>\n",
       "      <td>wed</td>\n",
       "      <td>...</td>\n",
       "      <td>1</td>\n",
       "      <td>999</td>\n",
       "      <td>0</td>\n",
       "      <td>nonexistent</td>\n",
       "      <td>-1.8</td>\n",
       "      <td>92.893</td>\n",
       "      <td>-46.2</td>\n",
       "      <td>1.281</td>\n",
       "      <td>5099.1</td>\n",
       "      <td>no</td>\n",
       "    </tr>\n",
       "    <tr>\n",
       "      <th>36942</th>\n",
       "      <td>45</td>\n",
       "      <td>admin</td>\n",
       "      <td>married</td>\n",
       "      <td>university degree</td>\n",
       "      <td>no</td>\n",
       "      <td>no</td>\n",
       "      <td>no</td>\n",
       "      <td>cellular</td>\n",
       "      <td>jul</td>\n",
       "      <td>thu</td>\n",
       "      <td>...</td>\n",
       "      <td>1</td>\n",
       "      <td>999</td>\n",
       "      <td>0</td>\n",
       "      <td>nonexistent</td>\n",
       "      <td>-2.9</td>\n",
       "      <td>92.469</td>\n",
       "      <td>-33.6</td>\n",
       "      <td>1.072</td>\n",
       "      <td>5076.2</td>\n",
       "      <td>yes</td>\n",
       "    </tr>\n",
       "    <tr>\n",
       "      <th>38272</th>\n",
       "      <td>71</td>\n",
       "      <td>retired</td>\n",
       "      <td>single</td>\n",
       "      <td>university degree</td>\n",
       "      <td>no</td>\n",
       "      <td>no</td>\n",
       "      <td>no</td>\n",
       "      <td>telephone</td>\n",
       "      <td>oct</td>\n",
       "      <td>tue</td>\n",
       "      <td>...</td>\n",
       "      <td>1</td>\n",
       "      <td>999</td>\n",
       "      <td>0</td>\n",
       "      <td>nonexistent</td>\n",
       "      <td>-3.4</td>\n",
       "      <td>92.431</td>\n",
       "      <td>-26.9</td>\n",
       "      <td>0.742</td>\n",
       "      <td>5017.5</td>\n",
       "      <td>no</td>\n",
       "    </tr>\n",
       "  </tbody>\n",
       "</table>\n",
       "<p>15 rows × 21 columns</p>\n",
       "</div>"
      ],
      "text/plain": [
       "       age          job   marital            education  default housing loan  \\\n",
       "1262    39  blue-collar   married                basic       no      no   no   \n",
       "12255   36      retired   married              unknown       no      no   no   \n",
       "14228   27   technician    single  professional course       no      no   no   \n",
       "16950   47   technician  divorced          high school       no     yes   no   \n",
       "18459   32   technician    single  professional course       no     yes   no   \n",
       "20210   55     services   married          high school  unknown      no   no   \n",
       "20528   41   technician   married  professional course       no     yes   no   \n",
       "25210   39        admin   married    university degree       no      no   no   \n",
       "28469   24     services    single          high school       no     yes   no   \n",
       "32241   49  blue-collar   married                basic       no     yes   no   \n",
       "32508   35        admin   married    university degree       no     yes   no   \n",
       "33527   43  blue-collar   married                basic       no     yes  yes   \n",
       "34001   42  blue-collar   married                basic       no     yes   no   \n",
       "36942   45        admin   married    university degree       no      no   no   \n",
       "38272   71      retired    single    university degree       no      no   no   \n",
       "\n",
       "         contact month day_of_week  ...  campaign  pdays  previous  \\\n",
       "1262   telephone   may         thu  ...         1    999         0   \n",
       "12255  telephone   jul         thu  ...         1    999         0   \n",
       "14228   cellular   jul         mon  ...         2    999         0   \n",
       "16950   cellular   jul         thu  ...         3    999         0   \n",
       "18459   cellular   jul         thu  ...         1    999         0   \n",
       "20210   cellular   aug         mon  ...         1    999         0   \n",
       "20528   cellular   aug         tue  ...         1    999         0   \n",
       "25210   cellular   nov         tue  ...         2    999         0   \n",
       "28469   cellular   apr         tue  ...         1    999         0   \n",
       "32241   cellular   may         fri  ...         1    999         1   \n",
       "32508   cellular   may         fri  ...         4    999         0   \n",
       "33527   cellular   may         tue  ...         2    999         0   \n",
       "34001   cellular   may         wed  ...         1    999         0   \n",
       "36942   cellular   jul         thu  ...         1    999         0   \n",
       "38272  telephone   oct         tue  ...         1    999         0   \n",
       "\n",
       "          poutcome emp_var_rate  cons_price_idx  cons_conf_idx  euribor3m  \\\n",
       "1262   nonexistent          1.1          93.994          -36.4      4.855   \n",
       "12255  nonexistent          1.4          93.918          -42.7      4.966   \n",
       "14228  nonexistent          1.4          93.918          -42.7      4.962   \n",
       "16950  nonexistent          1.4          93.918          -42.7      4.962   \n",
       "18459  nonexistent          1.4          93.918          -42.7      4.968   \n",
       "20210  nonexistent          1.4          93.444          -36.1      4.965   \n",
       "20528  nonexistent          1.4          93.444          -36.1      4.966   \n",
       "25210  nonexistent         -0.1          93.200          -42.0      4.153   \n",
       "28469  nonexistent         -1.8          93.075          -47.1      1.423   \n",
       "32241      failure         -1.8          92.893          -46.2      1.313   \n",
       "32508  nonexistent         -1.8          92.893          -46.2      1.313   \n",
       "33527  nonexistent         -1.8          92.893          -46.2      1.291   \n",
       "34001  nonexistent         -1.8          92.893          -46.2      1.281   \n",
       "36942  nonexistent         -2.9          92.469          -33.6      1.072   \n",
       "38272  nonexistent         -3.4          92.431          -26.9      0.742   \n",
       "\n",
       "       nr_employed    y  \n",
       "1262        5191.0   no  \n",
       "12255       5228.1   no  \n",
       "14228       5228.1   no  \n",
       "16950       5228.1   no  \n",
       "18459       5228.1   no  \n",
       "20210       5228.1   no  \n",
       "20528       5228.1   no  \n",
       "25210       5195.8   no  \n",
       "28469       5099.1   no  \n",
       "32241       5099.1   no  \n",
       "32508       5099.1   no  \n",
       "33527       5099.1   no  \n",
       "34001       5099.1   no  \n",
       "36942       5076.2  yes  \n",
       "38272       5017.5   no  \n",
       "\n",
       "[15 rows x 21 columns]"
      ]
     },
     "execution_count": 64,
     "metadata": {},
     "output_type": "execute_result"
    }
   ],
   "source": [
    "data[data.duplicated()]"
   ]
  },
  {
   "cell_type": "code",
   "execution_count": 65,
   "metadata": {},
   "outputs": [
    {
     "data": {
      "text/plain": [
       "(41160, 21)"
      ]
     },
     "execution_count": 65,
     "metadata": {},
     "output_type": "execute_result"
    }
   ],
   "source": [
    "data.drop_duplicates(inplace=True)\n",
    "data.shape"
   ]
  },
  {
   "cell_type": "markdown",
   "metadata": {},
   "source": [
    "#### missing values"
   ]
  },
  {
   "cell_type": "code",
   "execution_count": 66,
   "metadata": {},
   "outputs": [
    {
     "data": {
      "text/plain": [
       "age               0\n",
       "job               0\n",
       "marital           0\n",
       "education         0\n",
       "default           0\n",
       "housing           0\n",
       "loan              0\n",
       "contact           0\n",
       "month             0\n",
       "day_of_week       0\n",
       "duration          0\n",
       "campaign          0\n",
       "pdays             0\n",
       "previous          0\n",
       "poutcome          0\n",
       "emp_var_rate      0\n",
       "cons_price_idx    0\n",
       "cons_conf_idx     0\n",
       "euribor3m         0\n",
       "nr_employed       0\n",
       "y                 0\n",
       "dtype: int64"
      ]
     },
     "execution_count": 66,
     "metadata": {},
     "output_type": "execute_result"
    }
   ],
   "source": [
    "data.isna().sum()"
   ]
  },
  {
   "cell_type": "markdown",
   "metadata": {},
   "source": [
    "there are no missing values"
   ]
  },
  {
   "cell_type": "markdown",
   "metadata": {},
   "source": [
    "### initial feature selection"
   ]
  },
  {
   "cell_type": "markdown",
   "metadata": {},
   "source": [
    "#### categorical columns"
   ]
  },
  {
   "cell_type": "code",
   "execution_count": 67,
   "metadata": {},
   "outputs": [
    {
     "data": {
      "text/plain": [
       "age                  int64\n",
       "job               category\n",
       "marital           category\n",
       "education         category\n",
       "default           category\n",
       "housing           category\n",
       "loan              category\n",
       "contact           category\n",
       "month             category\n",
       "day_of_week       category\n",
       "duration             int64\n",
       "campaign             int64\n",
       "pdays                int64\n",
       "previous             int64\n",
       "poutcome          category\n",
       "emp_var_rate       float64\n",
       "cons_price_idx     float64\n",
       "cons_conf_idx      float64\n",
       "euribor3m          float64\n",
       "nr_employed        float64\n",
       "y                    int64\n",
       "dtype: object"
      ]
     },
     "execution_count": 67,
     "metadata": {},
     "output_type": "execute_result"
    }
   ],
   "source": [
    "churn_dict = {\n",
    "    'no' : 0,\n",
    "    'yes' : 1\n",
    "}\n",
    "data['y'] = data['y'].map(churn_dict)\n",
    "data['y'] = data['y'].astype('int')\n",
    "\n",
    "cat_cols = data.select_dtypes(include='object').columns.tolist()\n",
    "for col in cat_cols:\n",
    "    data[col] = data[col].astype('category')\n",
    "data.dtypes"
   ]
  },
  {
   "cell_type": "code",
   "execution_count": 68,
   "metadata": {},
   "outputs": [
    {
     "data": {
      "text/plain": [
       "['basic', 'high school', 'professional course', 'unknown', 'university degree', 'illiterate']\n",
       "Categories (6, object): ['unknown' < 'illiterate' < 'basic' < 'high school' < 'professional course' < 'university degree']"
      ]
     },
     "execution_count": 68,
     "metadata": {},
     "output_type": "execute_result"
    }
   ],
   "source": [
    "data['education'] = data['education'].cat.reorder_categories(\n",
    "    new_categories = ['unknown', 'illiterate', 'basic', 'high school', 'professional course', 'university degree'],\n",
    "    ordered = True\n",
    ")\n",
    "data.education.unique()"
   ]
  },
  {
   "cell_type": "code",
   "execution_count": 69,
   "metadata": {},
   "outputs": [
    {
     "data": {
      "text/plain": [
       "['may', 'jun', 'jul', 'aug', 'oct', 'nov', 'dec', 'mar', 'apr', 'sep']\n",
       "Categories (10, object): ['mar' < 'apr' < 'may' < 'jun' ... 'sep' < 'oct' < 'nov' < 'dec']"
      ]
     },
     "execution_count": 69,
     "metadata": {},
     "output_type": "execute_result"
    }
   ],
   "source": [
    "data['month'] = data['month'].cat.reorder_categories(\n",
    "    new_categories = ['mar', 'apr', 'may', 'jun', 'jul', 'aug', 'sep', 'oct', 'nov', 'dec'],\n",
    "    ordered = True\n",
    ")\n",
    "data.month.unique()"
   ]
  },
  {
   "cell_type": "code",
   "execution_count": 70,
   "metadata": {},
   "outputs": [
    {
     "data": {
      "text/plain": [
       "['mon', 'tue', 'wed', 'thu', 'fri']\n",
       "Categories (5, object): ['mon' < 'tue' < 'wed' < 'thu' < 'fri']"
      ]
     },
     "execution_count": 70,
     "metadata": {},
     "output_type": "execute_result"
    }
   ],
   "source": [
    "data['day_of_week'] = data['day_of_week'].cat.reorder_categories(\n",
    "    new_categories = ['mon', 'tue', 'wed', 'thu', 'fri'],\n",
    "    ordered = True\n",
    ")\n",
    "data.day_of_week.unique()"
   ]
  },
  {
   "cell_type": "code",
   "execution_count": 71,
   "metadata": {},
   "outputs": [
    {
     "name": "stdout",
     "output_type": "stream",
     "text": [
      "['job', 'marital', 'education', 'default', 'housing', 'contact', 'month', 'day_of_week', 'poutcome']\n",
      "['job', 'marital', 'education', 'default', 'housing', 'loan', 'contact', 'month', 'day_of_week', 'poutcome']\n"
     ]
    }
   ],
   "source": [
    "from scipy.stats import chi2_contingency\n",
    "def statistical_test_categorical(df, target, column):\n",
    "    _, p_value, _, _ = chi2_contingency(pd.crosstab(df[target], df[column]))\n",
    "    return p_value\n",
    "    \n",
    "relevant_cat_cols = []\n",
    "for col in cat_cols:\n",
    "    p_value = statistical_test_categorical(data, 'y', col)\n",
    "    if p_value < 0.05:\n",
    "        relevant_cat_cols.append(col)\n",
    "\n",
    "print(relevant_cat_cols)\n",
    "print(cat_cols)"
   ]
  },
  {
   "cell_type": "markdown",
   "metadata": {},
   "source": [
    "only 'loan' does not display influence on churn according to the test"
   ]
  },
  {
   "cell_type": "markdown",
   "metadata": {},
   "source": [
    "#### numerical cols"
   ]
  },
  {
   "cell_type": "code",
   "execution_count": 72,
   "metadata": {},
   "outputs": [
    {
     "name": "stdout",
     "output_type": "stream",
     "text": [
      "['duration', 'campaign', 'pdays', 'previous', 'emp_var_rate', 'cons_price_idx', 'cons_conf_idx', 'euribor3m', 'nr_employed']\n",
      "['age', 'duration', 'campaign', 'pdays', 'previous', 'emp_var_rate', 'cons_price_idx', 'cons_conf_idx', 'euribor3m', 'nr_employed']\n"
     ]
    }
   ],
   "source": [
    "num_cols = data.select_dtypes(include='number').columns.tolist()\n",
    "num_cols.remove('y')\n",
    "\n",
    "from scipy.stats import mannwhitneyu\n",
    "def statistical_test_numerical(df, target, column):\n",
    "    _, p_value = mannwhitneyu(df[df[target] == 0][column], df[df[target] == 1][column])\n",
    "    return p_value\n",
    "\n",
    "rel_num_cols = []\n",
    "for col in num_cols:\n",
    "    p_value = statistical_test_numerical(data, 'y', col)\n",
    "    if p_value < 0.01:\n",
    "        rel_num_cols.append(col)\n",
    "\n",
    "print(rel_num_cols)\n",
    "print(num_cols)"
   ]
  },
  {
   "cell_type": "markdown",
   "metadata": {},
   "source": [
    "only 'age' does not display a difference between the categories"
   ]
  },
  {
   "cell_type": "markdown",
   "metadata": {},
   "source": [
    "#### correlation analysis"
   ]
  },
  {
   "cell_type": "code",
   "execution_count": 73,
   "metadata": {},
   "outputs": [
    {
     "data": {
      "image/png": "[encoded data removed]",
      "text/plain": [
       "<Figure size 700x600 with 2 Axes>"
      ]
     },
     "metadata": {},
     "output_type": "display_data"
    }
   ],
   "source": [
    "cols_to_plot = ['y'] + rel_num_cols\n",
    "fig, axis = plt.subplots(1, 1, figsize=(7, 6))\n",
    "sns.despine(fig)\n",
    "sns.heatmap(data[cols_to_plot].corr(), cmap = sns.diverging_palette(230, 10, n=1001), ax = axis, annot=True, fmt = '.1f')\n",
    "axis.set_title('Correlation for numerical features')\n",
    "plt.tight_layout()"
   ]
  },
  {
   "cell_type": "code",
   "execution_count": 74,
   "metadata": {},
   "outputs": [
    {
     "data": {
      "text/html": [
       "<div>\n",
       "<style scoped>\n",
       "    .dataframe tbody tr th:only-of-type {\n",
       "        vertical-align: middle;\n",
       "    }\n",
       "\n",
       "    .dataframe tbody tr th {\n",
       "        vertical-align: top;\n",
       "    }\n",
       "\n",
       "    .dataframe thead th {\n",
       "        text-align: right;\n",
       "    }\n",
       "</style>\n",
       "<table border=\"1\" class=\"dataframe\">\n",
       "  <thead>\n",
       "    <tr style=\"text-align: right;\">\n",
       "      <th></th>\n",
       "      <th>Feature 1</th>\n",
       "      <th>Feature 2</th>\n",
       "      <th>Correlation</th>\n",
       "    </tr>\n",
       "  </thead>\n",
       "  <tbody>\n",
       "    <tr>\n",
       "      <th>4</th>\n",
       "      <td>emp_var_rate</td>\n",
       "      <td>euribor3m</td>\n",
       "      <td>0.972260</td>\n",
       "    </tr>\n",
       "    <tr>\n",
       "      <th>9</th>\n",
       "      <td>euribor3m</td>\n",
       "      <td>emp_var_rate</td>\n",
       "      <td>0.972260</td>\n",
       "    </tr>\n",
       "    <tr>\n",
       "      <th>11</th>\n",
       "      <td>euribor3m</td>\n",
       "      <td>nr_employed</td>\n",
       "      <td>0.945211</td>\n",
       "    </tr>\n",
       "    <tr>\n",
       "      <th>15</th>\n",
       "      <td>nr_employed</td>\n",
       "      <td>euribor3m</td>\n",
       "      <td>0.945211</td>\n",
       "    </tr>\n",
       "    <tr>\n",
       "      <th>5</th>\n",
       "      <td>emp_var_rate</td>\n",
       "      <td>nr_employed</td>\n",
       "      <td>0.907111</td>\n",
       "    </tr>\n",
       "    <tr>\n",
       "      <th>13</th>\n",
       "      <td>nr_employed</td>\n",
       "      <td>emp_var_rate</td>\n",
       "      <td>0.907111</td>\n",
       "    </tr>\n",
       "    <tr>\n",
       "      <th>3</th>\n",
       "      <td>emp_var_rate</td>\n",
       "      <td>cons_price_idx</td>\n",
       "      <td>0.775586</td>\n",
       "    </tr>\n",
       "    <tr>\n",
       "      <th>6</th>\n",
       "      <td>cons_price_idx</td>\n",
       "      <td>emp_var_rate</td>\n",
       "      <td>0.775586</td>\n",
       "    </tr>\n",
       "    <tr>\n",
       "      <th>7</th>\n",
       "      <td>cons_price_idx</td>\n",
       "      <td>euribor3m</td>\n",
       "      <td>0.688627</td>\n",
       "    </tr>\n",
       "    <tr>\n",
       "      <th>10</th>\n",
       "      <td>euribor3m</td>\n",
       "      <td>cons_price_idx</td>\n",
       "      <td>0.688627</td>\n",
       "    </tr>\n",
       "    <tr>\n",
       "      <th>8</th>\n",
       "      <td>cons_price_idx</td>\n",
       "      <td>nr_employed</td>\n",
       "      <td>0.522756</td>\n",
       "    </tr>\n",
       "    <tr>\n",
       "      <th>14</th>\n",
       "      <td>nr_employed</td>\n",
       "      <td>cons_price_idx</td>\n",
       "      <td>0.522756</td>\n",
       "    </tr>\n",
       "    <tr>\n",
       "      <th>2</th>\n",
       "      <td>previous</td>\n",
       "      <td>nr_employed</td>\n",
       "      <td>-0.501315</td>\n",
       "    </tr>\n",
       "    <tr>\n",
       "      <th>12</th>\n",
       "      <td>nr_employed</td>\n",
       "      <td>previous</td>\n",
       "      <td>-0.501315</td>\n",
       "    </tr>\n",
       "    <tr>\n",
       "      <th>0</th>\n",
       "      <td>pdays</td>\n",
       "      <td>previous</td>\n",
       "      <td>-0.587729</td>\n",
       "    </tr>\n",
       "    <tr>\n",
       "      <th>1</th>\n",
       "      <td>previous</td>\n",
       "      <td>pdays</td>\n",
       "      <td>-0.587729</td>\n",
       "    </tr>\n",
       "  </tbody>\n",
       "</table>\n",
       "</div>"
      ],
      "text/plain": [
       "         Feature 1       Feature 2  Correlation\n",
       "4     emp_var_rate       euribor3m     0.972260\n",
       "9        euribor3m    emp_var_rate     0.972260\n",
       "11       euribor3m     nr_employed     0.945211\n",
       "15     nr_employed       euribor3m     0.945211\n",
       "5     emp_var_rate     nr_employed     0.907111\n",
       "13     nr_employed    emp_var_rate     0.907111\n",
       "3     emp_var_rate  cons_price_idx     0.775586\n",
       "6   cons_price_idx    emp_var_rate     0.775586\n",
       "7   cons_price_idx       euribor3m     0.688627\n",
       "10       euribor3m  cons_price_idx     0.688627\n",
       "8   cons_price_idx     nr_employed     0.522756\n",
       "14     nr_employed  cons_price_idx     0.522756\n",
       "2         previous     nr_employed    -0.501315\n",
       "12     nr_employed        previous    -0.501315\n",
       "0            pdays        previous    -0.587729\n",
       "1         previous           pdays    -0.587729"
      ]
     },
     "execution_count": 74,
     "metadata": {},
     "output_type": "execute_result"
    }
   ],
   "source": [
    "correlations = data[cols_to_plot].corr()\n",
    "filtered_corr = correlations[abs(correlations) > 0.50]\n",
    "filtered_corr = filtered_corr.where(~np.eye(filtered_corr.shape[0], dtype=bool))\n",
    "filtered_corr_pairs = filtered_corr.stack().reset_index()\n",
    "filtered_corr_pairs.columns = ['Feature 1', 'Feature 2', 'Correlation']\n",
    "filtered_corr_pairs.sort_values(by = 'Correlation', ascending = False, inplace=True)\n",
    "filtered_corr_pairs"
   ]
  },
  {
   "cell_type": "code",
   "execution_count": 75,
   "metadata": {},
   "outputs": [
    {
     "data": {
      "image/png": "[encoded data removed]",
      "text/plain": [
       "<Figure size 700x600 with 2 Axes>"
      ]
     },
     "metadata": {},
     "output_type": "display_data"
    }
   ],
   "source": [
    "cols_to_plot.remove('euribor3m')\n",
    "cols_to_plot.remove('emp_var_rate')\n",
    "cols_to_plot.remove('cons_price_idx')\n",
    "\n",
    "fig, axis = plt.subplots(1, 1, figsize=(7, 6))\n",
    "sns.despine(fig)\n",
    "sns.heatmap(data[cols_to_plot].corr(), cmap = sns.diverging_palette(230, 10, n=1001), ax = axis, annot=True, fmt = '.1f')\n",
    "axis.set_title('Correlation for numerical features')\n",
    "plt.tight_layout()"
   ]
  },
  {
   "cell_type": "markdown",
   "metadata": {},
   "source": [
    "#### variance analysis"
   ]
  },
  {
   "cell_type": "code",
   "execution_count": 76,
   "metadata": {},
   "outputs": [
    {
     "data": {
      "text/plain": [
       "<Axes: >"
      ]
     },
     "execution_count": 76,
     "metadata": {},
     "output_type": "execute_result"
    },
    {
     "data": {
      "image/png": "[encoded data removed]",
      "text/plain": [
       "<Figure size 600x500 with 1 Axes>"
      ]
     },
     "metadata": {},
     "output_type": "display_data"
    }
   ],
   "source": [
    "variance = np.std(data[cols_to_plot]).sort_values()\n",
    "fig, axis = plt.subplots(figsize = (6, 5))\n",
    "sns.despine(fig)\n",
    "variance.plot(kind = 'barh', ax = axis)\n"
   ]
  },
  {
   "cell_type": "markdown",
   "metadata": {},
   "source": [
    "considering that previous and pdays have a correlation higher than 0.6 and the variance of previous is lower compared to <br>\n",
    "previous feature, the latter is preferred"
   ]
  },
  {
   "cell_type": "code",
   "execution_count": 77,
   "metadata": {},
   "outputs": [],
   "source": [
    "cols_to_plot.remove('previous')"
   ]
  },
  {
   "cell_type": "markdown",
   "metadata": {},
   "source": [
    "### data preparation"
   ]
  },
  {
   "cell_type": "code",
   "execution_count": 78,
   "metadata": {},
   "outputs": [
    {
     "name": "stdout",
     "output_type": "stream",
     "text": [
      "<class 'pandas.core.frame.DataFrame'>\n",
      "Int64Index: 41160 entries, 0 to 41174\n",
      "Data columns (total 15 columns):\n",
      " #   Column         Non-Null Count  Dtype   \n",
      "---  ------         --------------  -----   \n",
      " 0   y              41160 non-null  int64   \n",
      " 1   duration       41160 non-null  int64   \n",
      " 2   campaign       41160 non-null  int64   \n",
      " 3   pdays          41160 non-null  int64   \n",
      " 4   cons_conf_idx  41160 non-null  float64 \n",
      " 5   nr_employed    41160 non-null  float64 \n",
      " 6   job            41160 non-null  category\n",
      " 7   marital        41160 non-null  category\n",
      " 8   education      41160 non-null  category\n",
      " 9   default        41160 non-null  category\n",
      " 10  housing        41160 non-null  category\n",
      " 11  contact        41160 non-null  category\n",
      " 12  month          41160 non-null  category\n",
      " 13  day_of_week    41160 non-null  category\n",
      " 14  poutcome       41160 non-null  category\n",
      "dtypes: category(9), float64(2), int64(4)\n",
      "memory usage: 2.6 MB\n"
     ]
    }
   ],
   "source": [
    "df_cleaned = data[cols_to_plot + relevant_cat_cols].copy()\n",
    "df_cleaned.info()"
   ]
  },
  {
   "cell_type": "markdown",
   "metadata": {},
   "source": [
    "#### feature encoding"
   ]
  },
  {
   "cell_type": "code",
   "execution_count": 79,
   "metadata": {},
   "outputs": [
    {
     "name": "stdout",
     "output_type": "stream",
     "text": [
      "<class 'pandas.core.frame.DataFrame'>\n",
      "Int64Index: 41160 entries, 0 to 41174\n",
      "Data columns (total 29 columns):\n",
      " #   Column                Non-Null Count  Dtype  \n",
      "---  ------                --------------  -----  \n",
      " 0   y                     41160 non-null  int64  \n",
      " 1   duration              41160 non-null  int64  \n",
      " 2   campaign              41160 non-null  int64  \n",
      " 3   pdays                 41160 non-null  int64  \n",
      " 4   cons_conf_idx         41160 non-null  float64\n",
      " 5   nr_employed           41160 non-null  float64\n",
      " 6   education             41160 non-null  int64  \n",
      " 7   month                 41160 non-null  int64  \n",
      " 8   day_of_week           41160 non-null  int64  \n",
      " 9   job_blue-collar       41160 non-null  int64  \n",
      " 10  job_entrepreneur      41160 non-null  int64  \n",
      " 11  job_housemaid         41160 non-null  int64  \n",
      " 12  job_management        41160 non-null  int64  \n",
      " 13  job_retired           41160 non-null  int64  \n",
      " 14  job_self-employed     41160 non-null  int64  \n",
      " 15  job_services          41160 non-null  int64  \n",
      " 16  job_student           41160 non-null  int64  \n",
      " 17  job_technician        41160 non-null  int64  \n",
      " 18  job_unemployed        41160 non-null  int64  \n",
      " 19  job_unknown           41160 non-null  int64  \n",
      " 20  marital_married       41160 non-null  int64  \n",
      " 21  marital_single        41160 non-null  int64  \n",
      " 22  marital_unknown       41160 non-null  int64  \n",
      " 23  default_unknown       41160 non-null  int64  \n",
      " 24  default_yes           41160 non-null  int64  \n",
      " 25  housing_yes           41160 non-null  int64  \n",
      " 26  contact_telephone     41160 non-null  int64  \n",
      " 27  poutcome_nonexistent  41160 non-null  int64  \n",
      " 28  poutcome_success      41160 non-null  int64  \n",
      "dtypes: float64(2), int64(27)\n",
      "memory usage: 9.4 MB\n"
     ]
    }
   ],
   "source": [
    "# categorical columns\n",
    "cat_cols = df_cleaned.select_dtypes('category').columns.to_list()\n",
    "# ordinal columns subset\n",
    "ordinal_cols = ['education', 'month', 'day_of_week']\n",
    "# orders of each ordinal feature\n",
    "education_order = ['unknown', 'illiterate', 'basic', 'high school', 'professional course', 'university degree']\n",
    "month_order = ['mar', 'apr', 'may', 'jun', 'jul', 'aug', 'sep', 'oct', 'nov', 'dec']\n",
    "dow_order = ['mon', 'tue', 'wed', 'thu', 'fri']\n",
    "# nominal features\n",
    "nominal_cols = [col for col in cat_cols if col not in ordinal_cols]\n",
    "\n",
    "# encoding ordinal features\n",
    "from sklearn.preprocessing import OrdinalEncoder\n",
    "ord_enc = OrdinalEncoder(categories = [education_order, month_order, dow_order], dtype = 'int64')\n",
    "ord_enc.fit(df_cleaned[ordinal_cols])\n",
    "df_cleaned[ordinal_cols] = ord_enc.transform(df_cleaned[ordinal_cols])\n",
    "\n",
    "# encoding nominal features\n",
    "from sklearn.preprocessing import OneHotEncoder\n",
    "nom_enc = OneHotEncoder(drop = 'first', dtype = 'int64', sparse_output = False)\n",
    "nom_enc.fit(df_cleaned[nominal_cols])\n",
    "nominal_df = pd.DataFrame(nom_enc.transform(df_cleaned[nominal_cols]), \n",
    "                          columns = nom_enc.get_feature_names_out(nominal_cols),\n",
    "                          index = df_cleaned.index)\n",
    "\n",
    "df_cleaned.drop(columns = nominal_cols, inplace = True)\n",
    "df_cleaned = pd.concat([df_cleaned, nominal_df], axis = 1)\n",
    "df_cleaned.info()"
   ]
  }
 ],
 "metadata": {
  "kernelspec": {
   "display_name": "Python 3",
   "language": "python",
   "name": "python3"
  },
  "language_info": {
   "codemirror_mode": {
    "name": "ipython",
    "version": 3
   },
   "file_extension": ".py",
   "mimetype": "text/x-python",
   "name": "python",
   "nbconvert_exporter": "python",
   "pygments_lexer": "ipython3",
   "version": "3.9.6"
  }
 },
 "nbformat": 4,
 "nbformat_minor": 2
}
